{
 "cells": [
  {
   "cell_type": "code",
   "execution_count": 60,
   "id": "8ab41346",
   "metadata": {},
   "outputs": [],
   "source": [
    "import numpy as np\n",
    "import pandas as pd"
   ]
  },
  {
   "cell_type": "code",
   "execution_count": 61,
   "id": "b1f188a1",
   "metadata": {},
   "outputs": [],
   "source": [
    "df=pd.read_csv(r\"C:\\Users\\DAKSH\\Desktop\\EDA\\Bangalore Rapido Ride Services Dataset.csv\", low_memory=False)"
   ]
  },
  {
   "cell_type": "code",
   "execution_count": 62,
   "id": "9eee1bbd",
   "metadata": {},
   "outputs": [
    {
     "data": {
      "text/html": [
       "<div>\n",
       "<style scoped>\n",
       "    .dataframe tbody tr th:only-of-type {\n",
       "        vertical-align: middle;\n",
       "    }\n",
       "\n",
       "    .dataframe tbody tr th {\n",
       "        vertical-align: top;\n",
       "    }\n",
       "\n",
       "    .dataframe thead th {\n",
       "        text-align: right;\n",
       "    }\n",
       "</style>\n",
       "<table border=\"1\" class=\"dataframe\">\n",
       "  <thead>\n",
       "    <tr style=\"text-align: right;\">\n",
       "      <th></th>\n",
       "      <th>services</th>\n",
       "      <th>date</th>\n",
       "      <th>time</th>\n",
       "      <th>ride_hours</th>\n",
       "      <th>ride_status</th>\n",
       "      <th>source</th>\n",
       "      <th>destination</th>\n",
       "      <th>duration(min)</th>\n",
       "      <th>ride_id</th>\n",
       "      <th>distance(KM)</th>\n",
       "      <th>ride_charge(INR)</th>\n",
       "      <th>misc_charge(INR)</th>\n",
       "      <th>total_fare(INR)</th>\n",
       "      <th>payment_method</th>\n",
       "    </tr>\n",
       "  </thead>\n",
       "  <tbody>\n",
       "    <tr>\n",
       "      <th>0</th>\n",
       "      <td>Cab Economy</td>\n",
       "      <td>15-07-2024</td>\n",
       "      <td>08:30:41</td>\n",
       "      <td>NaN</td>\n",
       "      <td>Completed</td>\n",
       "      <td>Balagere Harbor</td>\n",
       "      <td>Harohalli Nagar</td>\n",
       "      <td>39</td>\n",
       "      <td>RD3161218751875354</td>\n",
       "      <td>27.21</td>\n",
       "      <td>764.83</td>\n",
       "      <td>31.51</td>\n",
       "      <td>796.34</td>\n",
       "      <td>Amazon Pay</td>\n",
       "    </tr>\n",
       "    <tr>\n",
       "      <th>1</th>\n",
       "      <td>Auto</td>\n",
       "      <td>05-07-2024</td>\n",
       "      <td>23:36:52</td>\n",
       "      <td>NaN</td>\n",
       "      <td>Completed</td>\n",
       "      <td>Basavanagudi 3rd Block</td>\n",
       "      <td>Bikasipura 1st Stage</td>\n",
       "      <td>89</td>\n",
       "      <td>RD8171514284594096</td>\n",
       "      <td>34.03</td>\n",
       "      <td>314.83</td>\n",
       "      <td>49.52</td>\n",
       "      <td>364.35</td>\n",
       "      <td>Paytm</td>\n",
       "    </tr>\n",
       "    <tr>\n",
       "      <th>2</th>\n",
       "      <td>Auto</td>\n",
       "      <td>23-07-2024</td>\n",
       "      <td>11:05:38</td>\n",
       "      <td>NaN</td>\n",
       "      <td>Cancelled</td>\n",
       "      <td>Babusapalya Cove</td>\n",
       "      <td>Kothaguda Terrace</td>\n",
       "      <td>25</td>\n",
       "      <td>RD9376481122237926</td>\n",
       "      <td>20.24</td>\n",
       "      <td>522.42</td>\n",
       "      <td>24.96</td>\n",
       "      <td>547.39</td>\n",
       "      <td>Null</td>\n",
       "    </tr>\n",
       "    <tr>\n",
       "      <th>3</th>\n",
       "      <td>Cab Economy</td>\n",
       "      <td>24-06-2024</td>\n",
       "      <td>08:45:11</td>\n",
       "      <td>NaN</td>\n",
       "      <td>Completed</td>\n",
       "      <td>Mahadevapura Mews</td>\n",
       "      <td>Kanakapura Arc</td>\n",
       "      <td>89</td>\n",
       "      <td>RD3676889143182765</td>\n",
       "      <td>31.17</td>\n",
       "      <td>484.73</td>\n",
       "      <td>15.84</td>\n",
       "      <td>500.57</td>\n",
       "      <td>Cash</td>\n",
       "    </tr>\n",
       "    <tr>\n",
       "      <th>4</th>\n",
       "      <td>Cab Economy</td>\n",
       "      <td>15-07-2024</td>\n",
       "      <td>00:26:45</td>\n",
       "      <td>NaN</td>\n",
       "      <td>Completed</td>\n",
       "      <td>Ganganagar Cove</td>\n",
       "      <td>Basaveshwaranagar Colony</td>\n",
       "      <td>95</td>\n",
       "      <td>RD6639410275948084</td>\n",
       "      <td>27.21</td>\n",
       "      <td>663.50</td>\n",
       "      <td>14.13</td>\n",
       "      <td>677.63</td>\n",
       "      <td>Amazon Pay</td>\n",
       "    </tr>\n",
       "  </tbody>\n",
       "</table>\n",
       "</div>"
      ],
      "text/plain": [
       "      services        date      time  ride_hours ride_status  \\\n",
       "0  Cab Economy  15-07-2024  08:30:41         NaN   Completed   \n",
       "1         Auto  05-07-2024  23:36:52         NaN   Completed   \n",
       "2         Auto  23-07-2024  11:05:38         NaN   Cancelled   \n",
       "3  Cab Economy  24-06-2024  08:45:11         NaN   Completed   \n",
       "4  Cab Economy  15-07-2024  00:26:45         NaN   Completed   \n",
       "\n",
       "                   source               destination  duration(min)  \\\n",
       "0         Balagere Harbor           Harohalli Nagar             39   \n",
       "1  Basavanagudi 3rd Block      Bikasipura 1st Stage             89   \n",
       "2        Babusapalya Cove         Kothaguda Terrace             25   \n",
       "3       Mahadevapura Mews            Kanakapura Arc             89   \n",
       "4         Ganganagar Cove  Basaveshwaranagar Colony             95   \n",
       "\n",
       "              ride_id  distance(KM)  ride_charge(INR)  misc_charge(INR)  \\\n",
       "0  RD3161218751875354         27.21            764.83             31.51   \n",
       "1  RD8171514284594096         34.03            314.83             49.52   \n",
       "2  RD9376481122237926         20.24            522.42             24.96   \n",
       "3  RD3676889143182765         31.17            484.73             15.84   \n",
       "4  RD6639410275948084         27.21            663.50             14.13   \n",
       "\n",
       "   total_fare(INR) payment_method  \n",
       "0           796.34     Amazon Pay  \n",
       "1           364.35          Paytm  \n",
       "2           547.39           Null  \n",
       "3           500.57           Cash  \n",
       "4           677.63     Amazon Pay  "
      ]
     },
     "execution_count": 62,
     "metadata": {},
     "output_type": "execute_result"
    }
   ],
   "source": [
    "df.head(5)"
   ]
  },
  {
   "cell_type": "code",
   "execution_count": null,
   "id": "05395631",
   "metadata": {},
   "outputs": [],
   "source": []
  },
  {
   "cell_type": "code",
   "execution_count": 5,
   "id": "cd591838",
   "metadata": {},
   "outputs": [],
   "source": [
    " #All rides sourced from HSR Layout\n",
    "df_1=df[df['source'].str.contains('HSR Layout')]                      \n"
   ]
  },
  {
   "cell_type": "code",
   "execution_count": null,
   "id": "d35e74b4",
   "metadata": {},
   "outputs": [],
   "source": []
  },
  {
   "cell_type": "code",
   "execution_count": 6,
   "id": "1a1c1fd2",
   "metadata": {},
   "outputs": [
    {
     "data": {
      "text/plain": [
       "services                5\n",
       "date                   61\n",
       "time                38006\n",
       "ride_hours              0\n",
       "ride_status             2\n",
       "source              12982\n",
       "destination         12977\n",
       "duration(min)         110\n",
       "ride_id             50000\n",
       "distance(KM)         4901\n",
       "ride_charge(INR)    35870\n",
       "misc_charge(INR)     5001\n",
       "total_fare(INR)     35949\n",
       "payment_method          5\n",
       "dtype: int64"
      ]
     },
     "execution_count": 6,
     "metadata": {},
     "output_type": "execute_result"
    }
   ],
   "source": [
    "#Unique entries in the database\n",
    "df.nunique()                                               "
   ]
  },
  {
   "cell_type": "code",
   "execution_count": null,
   "id": "4536daa5",
   "metadata": {},
   "outputs": [],
   "source": []
  },
  {
   "cell_type": "code",
   "execution_count": 7,
   "id": "3a11642b",
   "metadata": {},
   "outputs": [
    {
     "data": {
      "text/plain": [
       "ride_status\n",
       "Cancelled     5036\n",
       "Completed    44964\n",
       "Name: ride_status, dtype: int64"
      ]
     },
     "execution_count": 7,
     "metadata": {},
     "output_type": "execute_result"
    }
   ],
   "source": [
    " #Sum of all Cancelled/Completed rides#\n",
    "df.groupby(by='ride_status').ride_status.count()                      "
   ]
  },
  {
   "cell_type": "code",
   "execution_count": 8,
   "id": "d48e5dbd",
   "metadata": {},
   "outputs": [],
   "source": [
    "#Visualizing the statement with the help of Seaborn Library\n",
    "import matplotlib.pyplot as plt\n",
    "import seaborn as sns"
   ]
  },
  {
   "cell_type": "code",
   "execution_count": 9,
   "id": "750793f6",
   "metadata": {},
   "outputs": [
    {
     "data": {
      "image/png": "[encoded data removed]",
      "text/plain": [
       "<Figure size 300x300 with 1 Axes>"
      ]
     },
     "metadata": {},
     "output_type": "display_data"
    }
   ],
   "source": [
    "fig=plt.figure(figsize=(3,3))\n",
    "axes=fig.add_axes([0,0,1,1])\n",
    "axes.set_ylabel('Rides')\n",
    "axes.set_xlabel('Status')\n",
    "sns.countplot(x=df['ride_status'])\n",
    "plt.show()"
   ]
  },
  {
   "cell_type": "code",
   "execution_count": 10,
   "id": "a2b957a5",
   "metadata": {},
   "outputs": [],
   "source": [
    "##PEAK HOURS OF RIDE##\n",
    "#We can divide the hours from- 00:00:00 to 09:59:59, 10:00:00 to 19:59:59 and 20:00:00 to 23:59:59 respectively"
   ]
  },
  {
   "cell_type": "code",
   "execution_count": 11,
   "id": "f84473eb",
   "metadata": {},
   "outputs": [
    {
     "data": {
      "text/plain": [
       "20869"
      ]
     },
     "execution_count": 11,
     "metadata": {},
     "output_type": "execute_result"
    }
   ],
   "source": [
    "#TIME STAMP ( 00:00:00 to 09:59:59)\n",
    "df_filtered = df[df['time'].str.contains(r'^0', na=False)]\n",
    "df_filtered['time'].value_counts().sum()"
   ]
  },
  {
   "cell_type": "code",
   "execution_count": 12,
   "id": "f0b1d2d1",
   "metadata": {},
   "outputs": [
    {
     "data": {
      "text/plain": [
       "20876"
      ]
     },
     "execution_count": 12,
     "metadata": {},
     "output_type": "execute_result"
    }
   ],
   "source": [
    "#TIME STAMP (10:00:00 to 19:59:59)\n",
    "df_filtered = df[df['time'].str.contains(r'^1', na=False)]\n",
    "df_filtered['time'].value_counts().sum()"
   ]
  },
  {
   "cell_type": "code",
   "execution_count": 13,
   "id": "a6bfc843",
   "metadata": {},
   "outputs": [
    {
     "data": {
      "text/plain": [
       "8255"
      ]
     },
     "execution_count": 13,
     "metadata": {},
     "output_type": "execute_result"
    }
   ],
   "source": [
    "#TIME STAMP (20:00:00 to 23:59:59)\n",
    "df_filtered = df[df['time'].str.contains(r'^2', na=False)]\n",
    "df_filtered['time'].value_counts().sum()"
   ]
  },
  {
   "cell_type": "code",
   "execution_count": 14,
   "id": "1b33f777",
   "metadata": {},
   "outputs": [],
   "source": [
    "#10:00:00- 19:59:59 had the highest number of rides "
   ]
  },
  {
   "cell_type": "code",
   "execution_count": 15,
   "id": "46782a37",
   "metadata": {},
   "outputs": [
    {
     "data": {
      "text/plain": [
       "time\n",
       "09:10:02    6\n",
       "03:29:00    6\n",
       "02:11:37    5\n",
       "09:01:17    5\n",
       "09:37:40    5\n",
       "           ..\n",
       "01:35:01    1\n",
       "18:12:28    1\n",
       "13:56:40    1\n",
       "23:01:33    1\n",
       "08:53:26    1\n",
       "Name: count, Length: 38006, dtype: int64"
      ]
     },
     "execution_count": 15,
     "metadata": {},
     "output_type": "execute_result"
    }
   ],
   "source": [
    "df['time'].value_counts()"
   ]
  },
  {
   "cell_type": "code",
   "execution_count": null,
   "id": "8759f3c6",
   "metadata": {},
   "outputs": [],
   "source": []
  },
  {
   "cell_type": "code",
   "execution_count": null,
   "id": "62bde828",
   "metadata": {},
   "outputs": [],
   "source": []
  },
  {
   "cell_type": "code",
   "execution_count": 16,
   "id": "bd6d77be",
   "metadata": {},
   "outputs": [
    {
     "data": {
      "text/plain": [
       "source\n",
       "Kothanur Landing    23\n",
       "Name: count, dtype: int64"
      ]
     },
     "execution_count": 16,
     "metadata": {},
     "output_type": "execute_result"
    }
   ],
   "source": [
    "#Which Source area had the highest ride demand?                \n",
    "df['source'].value_counts().head(1)                               "
   ]
  },
  {
   "cell_type": "code",
   "execution_count": null,
   "id": "913885bc",
   "metadata": {},
   "outputs": [],
   "source": []
  },
  {
   "cell_type": "code",
   "execution_count": null,
   "id": "71da584f",
   "metadata": {},
   "outputs": [],
   "source": []
  },
  {
   "cell_type": "code",
   "execution_count": 17,
   "id": "5bcc8886",
   "metadata": {},
   "outputs": [
    {
     "data": {
      "text/plain": [
       "services\n",
       "Auto           12327\n",
       "Bike           15128\n",
       "Bike lite       4884\n",
       "Cab Economy    10202\n",
       "Parcel          7459\n",
       "Name: count, dtype: int64"
      ]
     },
     "execution_count": 17,
     "metadata": {},
     "output_type": "execute_result"
    }
   ],
   "source": [
    " #Rides categorized as per the Services\n",
    "df.groupby(by='services').services.value_counts()                         "
   ]
  },
  {
   "cell_type": "code",
   "execution_count": null,
   "id": "55a030f1",
   "metadata": {},
   "outputs": [],
   "source": []
  },
  {
   "cell_type": "code",
   "execution_count": null,
   "id": "036d26c3",
   "metadata": {},
   "outputs": [],
   "source": []
  },
  {
   "cell_type": "code",
   "execution_count": 18,
   "id": "29b96ffe",
   "metadata": {},
   "outputs": [],
   "source": [
    "#Fare Analysis for unique services\n",
    "df_2=df[(df['services']=='Auto') & (df['total_fare(INR)'])]   "
   ]
  },
  {
   "cell_type": "code",
   "execution_count": 19,
   "id": "8465bc8c",
   "metadata": {},
   "outputs": [
    {
     "data": {
      "text/html": [
       "<div>\n",
       "<style scoped>\n",
       "    .dataframe tbody tr th:only-of-type {\n",
       "        vertical-align: middle;\n",
       "    }\n",
       "\n",
       "    .dataframe tbody tr th {\n",
       "        vertical-align: top;\n",
       "    }\n",
       "\n",
       "    .dataframe thead th {\n",
       "        text-align: right;\n",
       "    }\n",
       "</style>\n",
       "<table border=\"1\" class=\"dataframe\">\n",
       "  <thead>\n",
       "    <tr style=\"text-align: right;\">\n",
       "      <th></th>\n",
       "      <th>services</th>\n",
       "      <th>date</th>\n",
       "      <th>time</th>\n",
       "      <th>ride_hours</th>\n",
       "      <th>ride_status</th>\n",
       "      <th>source</th>\n",
       "      <th>destination</th>\n",
       "      <th>duration(min)</th>\n",
       "      <th>ride_id</th>\n",
       "      <th>distance(KM)</th>\n",
       "      <th>ride_charge(INR)</th>\n",
       "      <th>misc_charge(INR)</th>\n",
       "      <th>total_fare(INR)</th>\n",
       "      <th>payment_method</th>\n",
       "    </tr>\n",
       "  </thead>\n",
       "  <tbody>\n",
       "    <tr>\n",
       "      <th>1</th>\n",
       "      <td>Auto</td>\n",
       "      <td>05-07-2024</td>\n",
       "      <td>23:36:52</td>\n",
       "      <td>NaN</td>\n",
       "      <td>Completed</td>\n",
       "      <td>Basavanagudi 3rd Block</td>\n",
       "      <td>Bikasipura 1st Stage</td>\n",
       "      <td>89</td>\n",
       "      <td>RD8171514284594096</td>\n",
       "      <td>34.03</td>\n",
       "      <td>314.83</td>\n",
       "      <td>49.52</td>\n",
       "      <td>364.35</td>\n",
       "      <td>Paytm</td>\n",
       "    </tr>\n",
       "    <tr>\n",
       "      <th>2</th>\n",
       "      <td>Auto</td>\n",
       "      <td>23-07-2024</td>\n",
       "      <td>11:05:38</td>\n",
       "      <td>NaN</td>\n",
       "      <td>Cancelled</td>\n",
       "      <td>Babusapalya Cove</td>\n",
       "      <td>Kothaguda Terrace</td>\n",
       "      <td>25</td>\n",
       "      <td>RD9376481122237926</td>\n",
       "      <td>20.24</td>\n",
       "      <td>522.42</td>\n",
       "      <td>24.96</td>\n",
       "      <td>547.39</td>\n",
       "      <td>Null</td>\n",
       "    </tr>\n",
       "    <tr>\n",
       "      <th>5</th>\n",
       "      <td>Auto</td>\n",
       "      <td>02-07-2024</td>\n",
       "      <td>01:28:30</td>\n",
       "      <td>NaN</td>\n",
       "      <td>Completed</td>\n",
       "      <td>HSR Layout Area</td>\n",
       "      <td>JP Nagar Viewpoint</td>\n",
       "      <td>18</td>\n",
       "      <td>RD5922205486441934</td>\n",
       "      <td>33.69</td>\n",
       "      <td>456.73</td>\n",
       "      <td>25.19</td>\n",
       "      <td>481.92</td>\n",
       "      <td>Cash</td>\n",
       "    </tr>\n",
       "  </tbody>\n",
       "</table>\n",
       "</div>"
      ],
      "text/plain": [
       "  services        date      time  ride_hours ride_status  \\\n",
       "1     Auto  05-07-2024  23:36:52         NaN   Completed   \n",
       "2     Auto  23-07-2024  11:05:38         NaN   Cancelled   \n",
       "5     Auto  02-07-2024  01:28:30         NaN   Completed   \n",
       "\n",
       "                   source           destination  duration(min)  \\\n",
       "1  Basavanagudi 3rd Block  Bikasipura 1st Stage             89   \n",
       "2        Babusapalya Cove     Kothaguda Terrace             25   \n",
       "5         HSR Layout Area    JP Nagar Viewpoint             18   \n",
       "\n",
       "              ride_id  distance(KM)  ride_charge(INR)  misc_charge(INR)  \\\n",
       "1  RD8171514284594096         34.03            314.83             49.52   \n",
       "2  RD9376481122237926         20.24            522.42             24.96   \n",
       "5  RD5922205486441934         33.69            456.73             25.19   \n",
       "\n",
       "   total_fare(INR) payment_method  \n",
       "1           364.35          Paytm  \n",
       "2           547.39           Null  \n",
       "5           481.92           Cash  "
      ]
     },
     "execution_count": 19,
     "metadata": {},
     "output_type": "execute_result"
    }
   ],
   "source": [
    "df_2.head(3)"
   ]
  },
  {
   "cell_type": "code",
   "execution_count": 20,
   "id": "ba5ed63d",
   "metadata": {},
   "outputs": [],
   "source": [
    "#We can create a barplot using Seaborn/Matplotlib"
   ]
  },
  {
   "cell_type": "code",
   "execution_count": 21,
   "id": "7e66b7ee",
   "metadata": {},
   "outputs": [
    {
     "data": {
      "image/png": "[encoded data removed]",
      "text/plain": [
       "<Figure size 500x500 with 1 Axes>"
      ]
     },
     "metadata": {},
     "output_type": "display_data"
    }
   ],
   "source": [
    "df['cost_per_km'] = df['ride_charge(INR)'] / df['distance(KM)']\n",
    "plt.figure(figsize=(5, 5))\n",
    "sns.barplot(x='services', y='cost_per_km', data=df, estimator=lambda x: sum(x) / len(x), palette='coolwarm')\n",
    "plt.xlabel('Service Type', fontsize=12)\n",
    "plt.ylabel('Average Cost per km', fontsize=12)\n",
    "plt.title('Average Cost per km for Each Service', fontsize=14)\n",
    "plt.show()\n"
   ]
  },
  {
   "cell_type": "code",
   "execution_count": 22,
   "id": "2a1c0c44",
   "metadata": {
    "scrolled": true
   },
   "outputs": [
    {
     "data": {
      "text/html": [
       "<div>\n",
       "<style scoped>\n",
       "    .dataframe tbody tr th:only-of-type {\n",
       "        vertical-align: middle;\n",
       "    }\n",
       "\n",
       "    .dataframe tbody tr th {\n",
       "        vertical-align: top;\n",
       "    }\n",
       "\n",
       "    .dataframe thead th {\n",
       "        text-align: right;\n",
       "    }\n",
       "</style>\n",
       "<table border=\"1\" class=\"dataframe\">\n",
       "  <thead>\n",
       "    <tr style=\"text-align: right;\">\n",
       "      <th></th>\n",
       "      <th>services</th>\n",
       "      <th>date</th>\n",
       "      <th>time</th>\n",
       "      <th>ride_hours</th>\n",
       "      <th>ride_status</th>\n",
       "      <th>source</th>\n",
       "      <th>destination</th>\n",
       "      <th>duration(min)</th>\n",
       "      <th>ride_id</th>\n",
       "      <th>distance(KM)</th>\n",
       "      <th>ride_charge(INR)</th>\n",
       "      <th>misc_charge(INR)</th>\n",
       "      <th>total_fare(INR)</th>\n",
       "      <th>payment_method</th>\n",
       "      <th>cost_per_km</th>\n",
       "    </tr>\n",
       "  </thead>\n",
       "  <tbody>\n",
       "    <tr>\n",
       "      <th>0</th>\n",
       "      <td>Cab Economy</td>\n",
       "      <td>15-07-2024</td>\n",
       "      <td>08:30:41</td>\n",
       "      <td>NaN</td>\n",
       "      <td>Completed</td>\n",
       "      <td>Balagere Harbor</td>\n",
       "      <td>Harohalli Nagar</td>\n",
       "      <td>39</td>\n",
       "      <td>RD3161218751875354</td>\n",
       "      <td>27.21</td>\n",
       "      <td>764.83</td>\n",
       "      <td>31.51</td>\n",
       "      <td>796.34</td>\n",
       "      <td>Amazon Pay</td>\n",
       "      <td>28.108416</td>\n",
       "    </tr>\n",
       "    <tr>\n",
       "      <th>1</th>\n",
       "      <td>Auto</td>\n",
       "      <td>05-07-2024</td>\n",
       "      <td>23:36:52</td>\n",
       "      <td>NaN</td>\n",
       "      <td>Completed</td>\n",
       "      <td>Basavanagudi 3rd Block</td>\n",
       "      <td>Bikasipura 1st Stage</td>\n",
       "      <td>89</td>\n",
       "      <td>RD8171514284594096</td>\n",
       "      <td>34.03</td>\n",
       "      <td>314.83</td>\n",
       "      <td>49.52</td>\n",
       "      <td>364.35</td>\n",
       "      <td>Paytm</td>\n",
       "      <td>9.251543</td>\n",
       "    </tr>\n",
       "  </tbody>\n",
       "</table>\n",
       "</div>"
      ],
      "text/plain": [
       "      services        date      time  ride_hours ride_status  \\\n",
       "0  Cab Economy  15-07-2024  08:30:41         NaN   Completed   \n",
       "1         Auto  05-07-2024  23:36:52         NaN   Completed   \n",
       "\n",
       "                   source           destination  duration(min)  \\\n",
       "0         Balagere Harbor       Harohalli Nagar             39   \n",
       "1  Basavanagudi 3rd Block  Bikasipura 1st Stage             89   \n",
       "\n",
       "              ride_id  distance(KM)  ride_charge(INR)  misc_charge(INR)  \\\n",
       "0  RD3161218751875354         27.21            764.83             31.51   \n",
       "1  RD8171514284594096         34.03            314.83             49.52   \n",
       "\n",
       "   total_fare(INR) payment_method  cost_per_km  \n",
       "0           796.34     Amazon Pay    28.108416  \n",
       "1           364.35          Paytm     9.251543  "
      ]
     },
     "execution_count": 22,
     "metadata": {},
     "output_type": "execute_result"
    }
   ],
   "source": [
    "df.head(2)"
   ]
  },
  {
   "cell_type": "code",
   "execution_count": null,
   "id": "f7fdef53",
   "metadata": {},
   "outputs": [],
   "source": []
  },
  {
   "cell_type": "code",
   "execution_count": null,
   "id": "fa542d21",
   "metadata": {},
   "outputs": [],
   "source": []
  },
  {
   "cell_type": "code",
   "execution_count": 59,
   "id": "3b477d25",
   "metadata": {},
   "outputs": [
    {
     "data": {
      "text/html": [
       "<div>\n",
       "<style scoped>\n",
       "    .dataframe tbody tr th:only-of-type {\n",
       "        vertical-align: middle;\n",
       "    }\n",
       "\n",
       "    .dataframe tbody tr th {\n",
       "        vertical-align: top;\n",
       "    }\n",
       "\n",
       "    .dataframe thead th {\n",
       "        text-align: right;\n",
       "    }\n",
       "</style>\n",
       "<table border=\"1\" class=\"dataframe\">\n",
       "  <thead>\n",
       "    <tr style=\"text-align: right;\">\n",
       "      <th></th>\n",
       "      <th>services</th>\n",
       "      <th>date</th>\n",
       "      <th>time</th>\n",
       "      <th>ride_hours</th>\n",
       "      <th>ride_status</th>\n",
       "      <th>source</th>\n",
       "      <th>destination</th>\n",
       "      <th>duration(min)</th>\n",
       "      <th>ride_id</th>\n",
       "      <th>distance(KM)</th>\n",
       "      <th>ride_charge(INR)</th>\n",
       "      <th>misc_charge(INR)</th>\n",
       "      <th>total_fare(INR)</th>\n",
       "      <th>payment_method</th>\n",
       "      <th>cost_per_km</th>\n",
       "      <th>Travel_speed</th>\n",
       "    </tr>\n",
       "  </thead>\n",
       "  <tbody>\n",
       "    <tr>\n",
       "      <th>0</th>\n",
       "      <td>Cab Economy</td>\n",
       "      <td>15-07-2024</td>\n",
       "      <td>08:30:41</td>\n",
       "      <td>NaN</td>\n",
       "      <td>Completed</td>\n",
       "      <td>Balagere Harbor</td>\n",
       "      <td>Harohalli Nagar</td>\n",
       "      <td>39</td>\n",
       "      <td>RD3161218751875354</td>\n",
       "      <td>27.21</td>\n",
       "      <td>764.83</td>\n",
       "      <td>31.51</td>\n",
       "      <td>796.34</td>\n",
       "      <td>Amazon Pay</td>\n",
       "      <td>28.108416</td>\n",
       "      <td>1.433297</td>\n",
       "    </tr>\n",
       "    <tr>\n",
       "      <th>1</th>\n",
       "      <td>Auto</td>\n",
       "      <td>05-07-2024</td>\n",
       "      <td>23:36:52</td>\n",
       "      <td>NaN</td>\n",
       "      <td>Completed</td>\n",
       "      <td>Basavanagudi 3rd Block</td>\n",
       "      <td>Bikasipura 1st Stage</td>\n",
       "      <td>89</td>\n",
       "      <td>RD8171514284594096</td>\n",
       "      <td>34.03</td>\n",
       "      <td>314.83</td>\n",
       "      <td>49.52</td>\n",
       "      <td>364.35</td>\n",
       "      <td>Paytm</td>\n",
       "      <td>9.251543</td>\n",
       "      <td>2.615339</td>\n",
       "    </tr>\n",
       "    <tr>\n",
       "      <th>2</th>\n",
       "      <td>Auto</td>\n",
       "      <td>23-07-2024</td>\n",
       "      <td>11:05:38</td>\n",
       "      <td>NaN</td>\n",
       "      <td>Cancelled</td>\n",
       "      <td>Babusapalya Cove</td>\n",
       "      <td>Kothaguda Terrace</td>\n",
       "      <td>25</td>\n",
       "      <td>RD9376481122237926</td>\n",
       "      <td>20.24</td>\n",
       "      <td>522.42</td>\n",
       "      <td>24.96</td>\n",
       "      <td>547.39</td>\n",
       "      <td>Null</td>\n",
       "      <td>25.811265</td>\n",
       "      <td>1.235178</td>\n",
       "    </tr>\n",
       "    <tr>\n",
       "      <th>3</th>\n",
       "      <td>Cab Economy</td>\n",
       "      <td>24-06-2024</td>\n",
       "      <td>08:45:11</td>\n",
       "      <td>NaN</td>\n",
       "      <td>Completed</td>\n",
       "      <td>Mahadevapura Mews</td>\n",
       "      <td>Kanakapura Arc</td>\n",
       "      <td>89</td>\n",
       "      <td>RD3676889143182765</td>\n",
       "      <td>31.17</td>\n",
       "      <td>484.73</td>\n",
       "      <td>15.84</td>\n",
       "      <td>500.57</td>\n",
       "      <td>Cash</td>\n",
       "      <td>15.551171</td>\n",
       "      <td>2.855310</td>\n",
       "    </tr>\n",
       "    <tr>\n",
       "      <th>4</th>\n",
       "      <td>Cab Economy</td>\n",
       "      <td>15-07-2024</td>\n",
       "      <td>00:26:45</td>\n",
       "      <td>NaN</td>\n",
       "      <td>Completed</td>\n",
       "      <td>Ganganagar Cove</td>\n",
       "      <td>Basaveshwaranagar Colony</td>\n",
       "      <td>95</td>\n",
       "      <td>RD6639410275948084</td>\n",
       "      <td>27.21</td>\n",
       "      <td>663.50</td>\n",
       "      <td>14.13</td>\n",
       "      <td>677.63</td>\n",
       "      <td>Amazon Pay</td>\n",
       "      <td>24.384417</td>\n",
       "      <td>3.491363</td>\n",
       "    </tr>\n",
       "    <tr>\n",
       "      <th>5</th>\n",
       "      <td>Auto</td>\n",
       "      <td>02-07-2024</td>\n",
       "      <td>01:28:30</td>\n",
       "      <td>NaN</td>\n",
       "      <td>Completed</td>\n",
       "      <td>HSR Layout Area</td>\n",
       "      <td>JP Nagar Viewpoint</td>\n",
       "      <td>18</td>\n",
       "      <td>RD5922205486441934</td>\n",
       "      <td>33.69</td>\n",
       "      <td>456.73</td>\n",
       "      <td>25.19</td>\n",
       "      <td>481.92</td>\n",
       "      <td>Cash</td>\n",
       "      <td>13.556842</td>\n",
       "      <td>0.534283</td>\n",
       "    </tr>\n",
       "    <tr>\n",
       "      <th>6</th>\n",
       "      <td>Cab Economy</td>\n",
       "      <td>23-07-2024</td>\n",
       "      <td>20:55:29</td>\n",
       "      <td>NaN</td>\n",
       "      <td>Completed</td>\n",
       "      <td>Arekere Heights</td>\n",
       "      <td>Dooravani Nagar Pointe</td>\n",
       "      <td>85</td>\n",
       "      <td>RD9557099396888459</td>\n",
       "      <td>20.44</td>\n",
       "      <td>836.39</td>\n",
       "      <td>14.95</td>\n",
       "      <td>851.34</td>\n",
       "      <td>GPay</td>\n",
       "      <td>40.919276</td>\n",
       "      <td>4.158513</td>\n",
       "    </tr>\n",
       "    <tr>\n",
       "      <th>7</th>\n",
       "      <td>Parcel</td>\n",
       "      <td>18-07-2024</td>\n",
       "      <td>13:38:34</td>\n",
       "      <td>NaN</td>\n",
       "      <td>Completed</td>\n",
       "      <td>Electronic City Village</td>\n",
       "      <td>Ganganagar Station</td>\n",
       "      <td>89</td>\n",
       "      <td>RD9473873953525644</td>\n",
       "      <td>35.31</td>\n",
       "      <td>724.76</td>\n",
       "      <td>31.34</td>\n",
       "      <td>756.10</td>\n",
       "      <td>Cash</td>\n",
       "      <td>20.525630</td>\n",
       "      <td>2.520532</td>\n",
       "    </tr>\n",
       "    <tr>\n",
       "      <th>8</th>\n",
       "      <td>Parcel</td>\n",
       "      <td>08-08-2024</td>\n",
       "      <td>07:59:54</td>\n",
       "      <td>NaN</td>\n",
       "      <td>Completed</td>\n",
       "      <td>Mysore Road Lane</td>\n",
       "      <td>Billekahalli 6th Block</td>\n",
       "      <td>72</td>\n",
       "      <td>RD1285566012167240</td>\n",
       "      <td>45.99</td>\n",
       "      <td>641.55</td>\n",
       "      <td>21.48</td>\n",
       "      <td>663.03</td>\n",
       "      <td>Amazon Pay</td>\n",
       "      <td>13.949772</td>\n",
       "      <td>1.565558</td>\n",
       "    </tr>\n",
       "    <tr>\n",
       "      <th>9</th>\n",
       "      <td>Bike lite</td>\n",
       "      <td>10-07-2024</td>\n",
       "      <td>12:30:08</td>\n",
       "      <td>NaN</td>\n",
       "      <td>Completed</td>\n",
       "      <td>Kundalahalli Alley</td>\n",
       "      <td>RT Nagar 5th Block</td>\n",
       "      <td>94</td>\n",
       "      <td>RD7238628094142076</td>\n",
       "      <td>44.43</td>\n",
       "      <td>571.50</td>\n",
       "      <td>47.63</td>\n",
       "      <td>619.13</td>\n",
       "      <td>Cash</td>\n",
       "      <td>12.862930</td>\n",
       "      <td>2.115688</td>\n",
       "    </tr>\n",
       "  </tbody>\n",
       "</table>\n",
       "</div>"
      ],
      "text/plain": [
       "      services        date      time  ride_hours ride_status  \\\n",
       "0  Cab Economy  15-07-2024  08:30:41         NaN   Completed   \n",
       "1         Auto  05-07-2024  23:36:52         NaN   Completed   \n",
       "2         Auto  23-07-2024  11:05:38         NaN   Cancelled   \n",
       "3  Cab Economy  24-06-2024  08:45:11         NaN   Completed   \n",
       "4  Cab Economy  15-07-2024  00:26:45         NaN   Completed   \n",
       "5         Auto  02-07-2024  01:28:30         NaN   Completed   \n",
       "6  Cab Economy  23-07-2024  20:55:29         NaN   Completed   \n",
       "7       Parcel  18-07-2024  13:38:34         NaN   Completed   \n",
       "8       Parcel  08-08-2024  07:59:54         NaN   Completed   \n",
       "9    Bike lite  10-07-2024  12:30:08         NaN   Completed   \n",
       "\n",
       "                    source               destination  duration(min)  \\\n",
       "0          Balagere Harbor           Harohalli Nagar             39   \n",
       "1   Basavanagudi 3rd Block      Bikasipura 1st Stage             89   \n",
       "2         Babusapalya Cove         Kothaguda Terrace             25   \n",
       "3        Mahadevapura Mews            Kanakapura Arc             89   \n",
       "4          Ganganagar Cove  Basaveshwaranagar Colony             95   \n",
       "5          HSR Layout Area        JP Nagar Viewpoint             18   \n",
       "6          Arekere Heights    Dooravani Nagar Pointe             85   \n",
       "7  Electronic City Village        Ganganagar Station             89   \n",
       "8         Mysore Road Lane    Billekahalli 6th Block             72   \n",
       "9       Kundalahalli Alley        RT Nagar 5th Block             94   \n",
       "\n",
       "              ride_id  distance(KM)  ride_charge(INR)  misc_charge(INR)  \\\n",
       "0  RD3161218751875354         27.21            764.83             31.51   \n",
       "1  RD8171514284594096         34.03            314.83             49.52   \n",
       "2  RD9376481122237926         20.24            522.42             24.96   \n",
       "3  RD3676889143182765         31.17            484.73             15.84   \n",
       "4  RD6639410275948084         27.21            663.50             14.13   \n",
       "5  RD5922205486441934         33.69            456.73             25.19   \n",
       "6  RD9557099396888459         20.44            836.39             14.95   \n",
       "7  RD9473873953525644         35.31            724.76             31.34   \n",
       "8  RD1285566012167240         45.99            641.55             21.48   \n",
       "9  RD7238628094142076         44.43            571.50             47.63   \n",
       "\n",
       "   total_fare(INR) payment_method  cost_per_km  Travel_speed  \n",
       "0           796.34     Amazon Pay    28.108416      1.433297  \n",
       "1           364.35          Paytm     9.251543      2.615339  \n",
       "2           547.39           Null    25.811265      1.235178  \n",
       "3           500.57           Cash    15.551171      2.855310  \n",
       "4           677.63     Amazon Pay    24.384417      3.491363  \n",
       "5           481.92           Cash    13.556842      0.534283  \n",
       "6           851.34           GPay    40.919276      4.158513  \n",
       "7           756.10           Cash    20.525630      2.520532  \n",
       "8           663.03     Amazon Pay    13.949772      1.565558  \n",
       "9           619.13           Cash    12.862930      2.115688  "
      ]
     },
     "execution_count": 59,
     "metadata": {},
     "output_type": "execute_result"
    }
   ],
   "source": [
    "#Time taken vs Distance covered(Corelation analysis)\n",
    "df['Travel_speed']= df['duration(min)']/df['distance(KM)']       \n",
    "df.head(10)"
   ]
  },
  {
   "cell_type": "code",
   "execution_count": 58,
   "id": "9d2a9ff2",
   "metadata": {},
   "outputs": [
    {
     "data": {
      "text/plain": [
       "5.141741624711738"
      ]
     },
     "execution_count": 58,
     "metadata": {},
     "output_type": "execute_result"
    }
   ],
   "source": [
    "df_new=df[(df['services']=='Auto') & (df['Travel_speed'])]\n",
    "df_new['Travel_speed'].mean()\n",
    "\n",
    "\n",
    "#This implies; If someone opts for Auto, it'll take avg. of 5minutes to cover 1km of distance(Keeping other factors comparative)"
   ]
  },
  {
   "cell_type": "code",
   "execution_count": null,
   "id": "dd1aef1b",
   "metadata": {},
   "outputs": [],
   "source": []
  },
  {
   "cell_type": "code",
   "execution_count": null,
   "id": "2513c5bf",
   "metadata": {},
   "outputs": [],
   "source": []
  },
  {
   "cell_type": "code",
   "execution_count": 25,
   "id": "72dd79d6",
   "metadata": {},
   "outputs": [
    {
     "data": {
      "text/plain": [
       "services     payment_method\n",
       "Auto         GPay              2861\n",
       "             Cash              2756\n",
       "             Paytm             2754\n",
       "             Amazon Pay        2743\n",
       "             Null              1213\n",
       "Bike         Cash              3405\n",
       "             Amazon Pay        3403\n",
       "             Paytm             3403\n",
       "             GPay              3356\n",
       "             Null              1561\n",
       "Bike lite    Amazon Pay        1144\n",
       "             Paytm             1112\n",
       "             GPay              1082\n",
       "             Cash              1050\n",
       "             Null               496\n",
       "Cab Economy  Paytm             2348\n",
       "             GPay              2283\n",
       "             Amazon Pay        2267\n",
       "             Cash              2250\n",
       "             Null              1054\n",
       "Parcel       Paytm             1698\n",
       "             Cash              1695\n",
       "             GPay              1686\n",
       "             Amazon Pay        1668\n",
       "             Null               712\n",
       "Name: count, dtype: int64"
      ]
     },
     "execution_count": 25,
     "metadata": {},
     "output_type": "execute_result"
    }
   ],
   "source": [
    "#Payment Preference Across Service Types (Auto vs. Cab Economy)\n",
    "df.groupby(by='services').payment_method.value_counts()\n"
   ]
  },
  {
   "cell_type": "code",
   "execution_count": 26,
   "id": "a4d17d20",
   "metadata": {},
   "outputs": [],
   "source": [
    "#Analysis for \"Cash\" payments over Auto vs Cab Economy"
   ]
  },
  {
   "cell_type": "code",
   "execution_count": 27,
   "id": "df9159d0",
   "metadata": {},
   "outputs": [
    {
     "data": {
      "text/plain": [
       "payment_method\n",
       "Cash    2756\n",
       "Name: count, dtype: int64"
      ]
     },
     "execution_count": 27,
     "metadata": {},
     "output_type": "execute_result"
    }
   ],
   "source": [
    "df_0=df[(df['services']=='Auto') & (df['payment_method']=='Cash')]\n",
    "df_0.payment_method.value_counts()"
   ]
  },
  {
   "cell_type": "code",
   "execution_count": 28,
   "id": "824397a5",
   "metadata": {},
   "outputs": [
    {
     "data": {
      "text/plain": [
       "payment_method\n",
       "Cash    2250\n",
       "Name: count, dtype: int64"
      ]
     },
     "execution_count": 28,
     "metadata": {},
     "output_type": "execute_result"
    }
   ],
   "source": [
    "df_0=df[(df['services']=='Cab Economy') & (df['payment_method']=='Cash')]\n",
    "df_0.payment_method.value_counts()"
   ]
  },
  {
   "cell_type": "code",
   "execution_count": 29,
   "id": "aee136a5",
   "metadata": {},
   "outputs": [],
   "source": [
    "#Analysis for \"Cashless\" payments over Auto vs Cab EconomyS"
   ]
  },
  {
   "cell_type": "code",
   "execution_count": 30,
   "id": "bb302f9a",
   "metadata": {},
   "outputs": [
    {
     "data": {
      "text/plain": [
       "9571"
      ]
     },
     "execution_count": 30,
     "metadata": {},
     "output_type": "execute_result"
    }
   ],
   "source": [
    "df_0=df[(df['services']=='Auto') & (df['payment_method']!='Cash')]\n",
    "df_0.payment_method.value_counts().sum()"
   ]
  },
  {
   "cell_type": "code",
   "execution_count": 31,
   "id": "6de928e7",
   "metadata": {},
   "outputs": [
    {
     "data": {
      "text/plain": [
       "7952"
      ]
     },
     "execution_count": 31,
     "metadata": {},
     "output_type": "execute_result"
    }
   ],
   "source": [
    "df_0=df[(df['services']=='Cab Economy') & (df['payment_method']!='Cash')]\n",
    "df_0.payment_method.value_counts().sum()"
   ]
  },
  {
   "cell_type": "code",
   "execution_count": 32,
   "id": "1f044fbf",
   "metadata": {},
   "outputs": [
    {
     "data": {
      "image/png": "[encoded data removed]",
      "text/plain": [
       "<Figure size 500x500 with 1 Axes>"
      ]
     },
     "metadata": {},
     "output_type": "display_data"
    }
   ],
   "source": [
    "services = ['Auto', 'Auto', 'Cab Economy', 'Cab Economy']\n",
    "payment_methods = ['Cash', 'Cashless', 'Cash', 'Cashless']\n",
    "counts = [2756, 9571, 2250, 7952]\n",
    "\n",
    "plt.figure(figsize=(5, 5))\n",
    "sns.barplot(x=services, y=counts, hue=payment_methods)\n",
    "plt.xlabel(\"Service Type\")\n",
    "plt.ylabel(\"Number of Payments\")\n",
    "plt.title(\"Comparison of Cash vs Cashless Payments for Auto & Cab Economy\")\n",
    "plt.legend(title=\"Payment Method\")\n",
    "plt.show()\n"
   ]
  },
  {
   "cell_type": "code",
   "execution_count": null,
   "id": "2ac92601",
   "metadata": {},
   "outputs": [],
   "source": []
  }
 ],
 "metadata": {
  "kernelspec": {
   "display_name": "Python 3 (ipykernel)",
   "language": "python",
   "name": "python3"
  },
  "language_info": {
   "codemirror_mode": {
    "name": "ipython",
    "version": 3
   },
   "file_extension": ".py",
   "mimetype": "text/x-python",
   "name": "python",
   "nbconvert_exporter": "python",
   "pygments_lexer": "ipython3",
   "version": "3.11.5"
  }
 },
 "nbformat": 4,
 "nbformat_minor": 5
}
